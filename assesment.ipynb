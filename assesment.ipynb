{
 "cells": [
  {
   "cell_type": "markdown",
   "metadata": {},
   "source": [
    "# Alejandro Sánchez Monzón - Assesment Clarity AI (04/06/2024)"
   ]
  },
  {
   "cell_type": "markdown",
   "metadata": {},
   "source": [
    "> Please read the README.md file to understand more about my feelings and thoughts during the assesment development. "
   ]
  },
  {
   "cell_type": "code",
   "execution_count": 206,
   "metadata": {},
   "outputs": [],
   "source": [
    "## Uncomment this line and install pandas in case you don't have it i your local environment.\n",
    "## pip install pandas"
   ]
  },
  {
   "cell_type": "code",
   "execution_count": 207,
   "metadata": {},
   "outputs": [],
   "source": [
    "# This line won't work if you didn't install pandas using the above command.\n",
    "# https://pandas.pydata.org/docs/\n",
    "\n",
    "import pandas as pd"
   ]
  },
  {
   "cell_type": "code",
   "execution_count": 208,
   "metadata": {},
   "outputs": [],
   "source": [
    "# Fisrt of all, I found usefull to check if the timestamp received is valid or not.\n",
    "def is_timestamp_valid(timestamp):\n",
    "    try:\n",
    "        pd.to_datetime(timestamp, unit='ms')\n",
    "        return True\n",
    "    except ValueError:\n",
    "        return False"
   ]
  },
  {
   "cell_type": "code",
   "execution_count": 209,
   "metadata": {},
   "outputs": [],
   "source": [
    "# Let's create the function with the logic required.\n",
    "\n",
    "def parsing_tool(file_name, init_datetime, end_datetime, hostname):\n",
    "    # I will check first if the timestamp received is valid or not.\n",
    "    if not is_timestamp_valid(init_datetime) or not is_timestamp_valid(end_datetime):\n",
    "        raise ValueError('The timestamp received is not valid.')\n",
    "\n",
    "    # I need to parse to datetime object the init_datetime and end_datetime variables.\n",
    "    init_datetime = pd.to_datetime(init_datetime, unit='ms')\n",
    "    end_datetime = pd.to_datetime(end_datetime, unit='ms')\n",
    "\n",
    "    # I will read all the lines of the file, naming the columns as the format given.\n",
    "    df = pd.read_csv(file_name, sep=' ', names=['unix_timestamp', 'hostname 1', 'hostname 2'])\n",
    "\n",
    "    time_parsed = pd.to_datetime(df['unix_timestamp'], unit='ms')\n",
    "\n",
    "    # I am going to filter the dataframe based on the init_datetime and end_datetime variables.\n",
    "    df_filtered = df[(time_parsed >= init_datetime) & (time_parsed <= end_datetime)]\n",
    "\n",
    "    # Now, I continue filtering the dataframe based on the hostname variable.\n",
    "    df_filtered = df_filtered[(df_filtered['hostname 1'] == hostname) | (df_filtered['hostname 2'] == hostname)]\n",
    "\n",
    "    return df_filtered"
   ]
  },
  {
   "cell_type": "code",
   "execution_count": 210,
   "metadata": {},
   "outputs": [],
   "source": [
    "# At the end, we call the function with all the required parameters.\n",
    "\n",
    "hostname = 'Taffani'\n",
    "file_name = 'input-file-10000.txt'\n",
    "init_datetime = '1565647518147'\n",
    "end_datetime = '1565649996495'"
   ]
  },
  {
   "cell_type": "code",
   "execution_count": 211,
   "metadata": {},
   "outputs": [
    {
     "name": "stderr",
     "output_type": "stream",
     "text": [
      "/tmp/ipykernel_5607/1821696467.py:4: FutureWarning: The behavior of 'to_datetime' with 'unit' when parsing strings is deprecated. In a future version, strings will be parsed as datetime strings, matching the behavior without a 'unit'. To retain the old behavior, explicitly cast ints or floats to numeric type before calling to_datetime.\n",
      "  pd.to_datetime(timestamp, unit='ms')\n",
      "/tmp/ipykernel_5607/1242734268.py:9: FutureWarning: The behavior of 'to_datetime' with 'unit' when parsing strings is deprecated. In a future version, strings will be parsed as datetime strings, matching the behavior without a 'unit'. To retain the old behavior, explicitly cast ints or floats to numeric type before calling to_datetime.\n",
      "  init_datetime = pd.to_datetime(init_datetime, unit='ms')\n",
      "/tmp/ipykernel_5607/1242734268.py:10: FutureWarning: The behavior of 'to_datetime' with 'unit' when parsing strings is deprecated. In a future version, strings will be parsed as datetime strings, matching the behavior without a 'unit'. To retain the old behavior, explicitly cast ints or floats to numeric type before calling to_datetime.\n",
      "  end_datetime = pd.to_datetime(end_datetime, unit='ms')\n"
     ]
    },
    {
     "data": {
      "text/html": [
       "<div>\n",
       "<style scoped>\n",
       "    .dataframe tbody tr th:only-of-type {\n",
       "        vertical-align: middle;\n",
       "    }\n",
       "\n",
       "    .dataframe tbody tr th {\n",
       "        vertical-align: top;\n",
       "    }\n",
       "\n",
       "    .dataframe thead th {\n",
       "        text-align: right;\n",
       "    }\n",
       "</style>\n",
       "<table border=\"1\" class=\"dataframe\">\n",
       "  <thead>\n",
       "    <tr style=\"text-align: right;\">\n",
       "      <th></th>\n",
       "      <th>unix_timestamp</th>\n",
       "      <th>hostname 1</th>\n",
       "      <th>hostname 2</th>\n",
       "    </tr>\n",
       "  </thead>\n",
       "  <tbody>\n",
       "    <tr>\n",
       "      <th>79</th>\n",
       "      <td>1565647824566</td>\n",
       "      <td>Chessica</td>\n",
       "      <td>Taffani</td>\n",
       "    </tr>\n",
       "    <tr>\n",
       "      <th>188</th>\n",
       "      <td>1565648881102</td>\n",
       "      <td>Shaunee</td>\n",
       "      <td>Taffani</td>\n",
       "    </tr>\n",
       "    <tr>\n",
       "      <th>280</th>\n",
       "      <td>1565649679572</td>\n",
       "      <td>Mehret</td>\n",
       "      <td>Taffani</td>\n",
       "    </tr>\n",
       "  </tbody>\n",
       "</table>\n",
       "</div>"
      ],
      "text/plain": [
       "     unix_timestamp hostname 1 hostname 2\n",
       "79    1565647824566   Chessica    Taffani\n",
       "188   1565648881102    Shaunee    Taffani\n",
       "280   1565649679572     Mehret    Taffani"
      ]
     },
     "execution_count": 211,
     "metadata": {},
     "output_type": "execute_result"
    }
   ],
   "source": [
    "df_result = parsing_tool(file_name, init_datetime, end_datetime, hostname)\n",
    "\n",
    "df_result"
   ]
  },
  {
   "cell_type": "code",
   "execution_count": 212,
   "metadata": {},
   "outputs": [
    {
     "data": {
      "text/plain": [
       "{'Chessica', 'Mehret', 'Shaunee'}"
      ]
     },
     "execution_count": 212,
     "metadata": {},
     "output_type": "execute_result"
    }
   ],
   "source": [
    "# We show just a list, as is said in the requirements.\n",
    "# In order to avoid duplicated values, I decided to use a set, which will trate the values as unique. I show the complete dataframe in the above cell with the rest of the information.\n",
    "\n",
    "set(df_result['hostname 1'].to_list())"
   ]
  },
  {
   "cell_type": "markdown",
   "metadata": {},
   "source": [
    "## Alternative: using user inputs by console"
   ]
  },
  {
   "cell_type": "code",
   "execution_count": 213,
   "metadata": {},
   "outputs": [
    {
     "name": "stderr",
     "output_type": "stream",
     "text": [
      "/tmp/ipykernel_5607/1821696467.py:4: FutureWarning: The behavior of 'to_datetime' with 'unit' when parsing strings is deprecated. In a future version, strings will be parsed as datetime strings, matching the behavior without a 'unit'. To retain the old behavior, explicitly cast ints or floats to numeric type before calling to_datetime.\n",
      "  pd.to_datetime(timestamp, unit='ms')\n",
      "/tmp/ipykernel_5607/1242734268.py:9: FutureWarning: The behavior of 'to_datetime' with 'unit' when parsing strings is deprecated. In a future version, strings will be parsed as datetime strings, matching the behavior without a 'unit'. To retain the old behavior, explicitly cast ints or floats to numeric type before calling to_datetime.\n",
      "  init_datetime = pd.to_datetime(init_datetime, unit='ms')\n",
      "/tmp/ipykernel_5607/1242734268.py:10: FutureWarning: The behavior of 'to_datetime' with 'unit' when parsing strings is deprecated. In a future version, strings will be parsed as datetime strings, matching the behavior without a 'unit'. To retain the old behavior, explicitly cast ints or floats to numeric type before calling to_datetime.\n",
      "  end_datetime = pd.to_datetime(end_datetime, unit='ms')\n"
     ]
    },
    {
     "data": {
      "text/html": [
       "<div>\n",
       "<style scoped>\n",
       "    .dataframe tbody tr th:only-of-type {\n",
       "        vertical-align: middle;\n",
       "    }\n",
       "\n",
       "    .dataframe tbody tr th {\n",
       "        vertical-align: top;\n",
       "    }\n",
       "\n",
       "    .dataframe thead th {\n",
       "        text-align: right;\n",
       "    }\n",
       "</style>\n",
       "<table border=\"1\" class=\"dataframe\">\n",
       "  <thead>\n",
       "    <tr style=\"text-align: right;\">\n",
       "      <th></th>\n",
       "      <th>unix_timestamp</th>\n",
       "      <th>hostname 1</th>\n",
       "      <th>hostname 2</th>\n",
       "    </tr>\n",
       "  </thead>\n",
       "  <tbody>\n",
       "    <tr>\n",
       "      <th>79</th>\n",
       "      <td>1565647824566</td>\n",
       "      <td>Chessica</td>\n",
       "      <td>Taffani</td>\n",
       "    </tr>\n",
       "    <tr>\n",
       "      <th>188</th>\n",
       "      <td>1565648881102</td>\n",
       "      <td>Shaunee</td>\n",
       "      <td>Taffani</td>\n",
       "    </tr>\n",
       "    <tr>\n",
       "      <th>280</th>\n",
       "      <td>1565649679572</td>\n",
       "      <td>Mehret</td>\n",
       "      <td>Taffani</td>\n",
       "    </tr>\n",
       "  </tbody>\n",
       "</table>\n",
       "</div>"
      ],
      "text/plain": [
       "     unix_timestamp hostname 1 hostname 2\n",
       "79    1565647824566   Chessica    Taffani\n",
       "188   1565648881102    Shaunee    Taffani\n",
       "280   1565649679572     Mehret    Taffani"
      ]
     },
     "execution_count": 213,
     "metadata": {},
     "output_type": "execute_result"
    }
   ],
   "source": [
    "hostname_input = input(\"Enter the hostname: \")\n",
    "end_datetime_input = input(\"Enter the end datetime (ms): \")\n",
    "init_datetime_input = input(\"Enter the init datetime (ms): \")\n",
    "file_name_input = input(\"Enter the file name: \")\n",
    "\n",
    "df_result_inputs = parsing_tool(file_name_input, init_datetime_input, end_datetime_input, hostname_input)\n",
    "\n",
    "df_result_inputs"
   ]
  },
  {
   "cell_type": "markdown",
   "metadata": {},
   "source": [
    "# Testing for this two methods"
   ]
  },
  {
   "cell_type": "code",
   "execution_count": 214,
   "metadata": {},
   "outputs": [],
   "source": [
    "# I import the testing library I am going to use to test my functions.\n",
    "\n",
    "import unittest"
   ]
  },
  {
   "cell_type": "code",
   "execution_count": 221,
   "metadata": {},
   "outputs": [
    {
     "name": "stderr",
     "output_type": "stream",
     "text": [
      "./tmp/ipykernel_5607/1821696467.py:4: FutureWarning: The behavior of 'to_datetime' with 'unit' when parsing strings is deprecated. In a future version, strings will be parsed as datetime strings, matching the behavior without a 'unit'. To retain the old behavior, explicitly cast ints or floats to numeric type before calling to_datetime.\n",
      "  pd.to_datetime(timestamp, unit='ms')\n",
      "/tmp/ipykernel_5607/1242734268.py:9: FutureWarning: The behavior of 'to_datetime' with 'unit' when parsing strings is deprecated. In a future version, strings will be parsed as datetime strings, matching the behavior without a 'unit'. To retain the old behavior, explicitly cast ints or floats to numeric type before calling to_datetime.\n",
      "  init_datetime = pd.to_datetime(init_datetime, unit='ms')\n",
      "/tmp/ipykernel_5607/1242734268.py:10: FutureWarning: The behavior of 'to_datetime' with 'unit' when parsing strings is deprecated. In a future version, strings will be parsed as datetime strings, matching the behavior without a 'unit'. To retain the old behavior, explicitly cast ints or floats to numeric type before calling to_datetime.\n",
      "  end_datetime = pd.to_datetime(end_datetime, unit='ms')\n",
      ".\n",
      "----------------------------------------------------------------------\n",
      "Ran 2 tests in 0.035s\n",
      "\n",
      "OK\n"
     ]
    },
    {
     "data": {
      "text/plain": [
       "<unittest.main.TestProgram at 0x7f37f1ca7210>"
      ]
     },
     "execution_count": 221,
     "metadata": {},
     "output_type": "execute_result"
    }
   ],
   "source": [
    "# I create a class with my functions to test the original ones.\n",
    "\n",
    "class TestParsingTool(unittest.TestCase):\n",
    "    def test_is_timestamp_valid(self):\n",
    "        test_file_name = 'input-file-10000.txt'\n",
    "        test_end_datetime = '1565649996495'\n",
    "        test_init_datetime = 'INVALID_TIMESTAMP'\n",
    "        test_hostname = 'Taffani'\n",
    "\n",
    "        with self.assertRaises(ValueError):\n",
    "            parsing_tool(test_file_name, test_init_datetime, test_end_datetime, test_hostname)\n",
    "\n",
    "    def test_parsing_tool(self):\n",
    "        test_file_name = 'input-file-10000.txt'\n",
    "        test_end_datetime = '1565649996495'\n",
    "        test_init_datetime = '1565647518147'\n",
    "        test_hostname = 'Taffani'\n",
    "\n",
    "        test_result = parsing_tool(test_file_name, test_init_datetime, test_end_datetime, test_hostname)\n",
    "        self.assertIn('Shaunee', test_result['hostname 1'].to_list())\n",
    "\n",
    "\n",
    "unittest.main(argv=[''], exit=False)"
   ]
  },
  {
   "cell_type": "markdown",
   "metadata": {},
   "source": [
    "# Optional requirement"
   ]
  },
  {
   "cell_type": "code",
   "execution_count": 242,
   "metadata": {},
   "outputs": [],
   "source": [
    "# I will need some more libraries this time in order to use threading correctly and work with timestamps.\n",
    "\n",
    "import pandas as pd\n",
    "import time\n",
    "from datetime import datetime, timedelta\n",
    "import threading"
   ]
  },
  {
   "cell_type": "code",
   "execution_count": 243,
   "metadata": {},
   "outputs": [],
   "source": [
    "class Monitor:\n",
    "    def __init__(self, hostname, file_name):\n",
    "        self.hostname = hostname\n",
    "        self.file_name = file_name\n",
    "        self.last_timestamp = datetime.now() - timedelta(days=1)\n",
    "        self.df = pd.DataFrame(columns=['unix_timestamp', 'hostname 1', 'hostname 2'])\n",
    "\n",
    "    # This function will be called in a thread and continuously update the dataframe.\n",
    "    def update_data(self):\n",
    "        while True:\n",
    "                # I read the file and create a new dataframe with only the new information.\n",
    "                new_df = pd.read_csv(self.file_name, sep=' ', names=['unix_timestamp', 'hostname 1', 'hostname 2'], skiprows=len(self.df))\n",
    "                new_df['unix_timestamp'] = pd.to_datetime(new_df['unix_timestamp'], unit='ms')\n",
    "\n",
    "                # I update the dataframe with the new information.\n",
    "                self.df = pd.concat([self.df, new_df])\n",
    "\n",
    "                time.sleep(60)\n",
    "\n",
    "    # This function will be called in a thread and will generate the report where I collect data such as hostnames connected, received and most connected.\n",
    "    def generate_report(self):\n",
    "        while True:\n",
    "            actual_time = datetime.now()\n",
    "\n",
    "            if actual_time - self.last_timestamp >= timedelta(minutes=1):\n",
    "                self.last_timestamp = actual_time\n",
    "                hour_aux = actual_time - timedelta(hours=1)\n",
    "\n",
    "                last_hour_df = self.df[(self.df['unix_timestamp'] >= hour_aux) & (self.df['unix_timestamp'] <= actual_time)]\n",
    "\n",
    "                hostnames_connected = last_hour_df[last_hour_df['hostname 1'] == self.hostname]['hostname 2'].unique().tolist()\n",
    "                hostnames_received = last_hour_df[last_hour_df['hostname 2'] == self.hostname]['hostname 1'].unique().tolist()\n",
    "\n",
    "                if not last_hour_df.empty:\n",
    "                    most_connections = last_hour_df['hostname 1'].value_counts().idxmax()\n",
    "                else:\n",
    "                    most_connections = None\n",
    "\n",
    "                pd.DataFrame({'hostname 1': hostnames_connected, 'hostname 2': hostnames_received, 'most_connected': most_connections, 'last_timestamp': actual_time}).to_csv(f'output/report_{actual_time.timestamp()}.csv', index=False)\n",
    "\n",
    "            time.sleep(60 * 60)"
   ]
  },
  {
   "cell_type": "code",
   "execution_count": 244,
   "metadata": {},
   "outputs": [],
   "source": [
    "# I declared the variables for the monitor object.\n",
    "file_name_realtime = 'input-file-10000.txt'\n",
    "hostname_realtime = 'Taffani'\n",
    "\n",
    "monitor = Monitor(hostname_realtime, file_name_realtime)"
   ]
  },
  {
   "cell_type": "code",
   "execution_count": 245,
   "metadata": {},
   "outputs": [
    {
     "name": "stderr",
     "output_type": "stream",
     "text": [
      "/tmp/ipykernel_5607/2774690042.py:16: FutureWarning: The behavior of DataFrame concatenation with empty or all-NA entries is deprecated. In a future version, this will no longer exclude empty or all-NA columns when determining the result dtypes. To retain the old behavior, exclude the relevant entries before the concat operation.\n",
      "  self.df = pd.concat([self.df, new_df])\n"
     ]
    },
    {
     "ename": "KeyboardInterrupt",
     "evalue": "",
     "output_type": "error",
     "traceback": [
      "\u001b[0;31m---------------------------------------------------------------------------\u001b[0m",
      "\u001b[0;31mKeyboardInterrupt\u001b[0m                         Traceback (most recent call last)",
      "Cell \u001b[0;32mIn[245], line 5\u001b[0m\n\u001b[1;32m      2\u001b[0m monitor_thread \u001b[38;5;241m=\u001b[39m threading\u001b[38;5;241m.\u001b[39mThread(target\u001b[38;5;241m=\u001b[39mmonitor\u001b[38;5;241m.\u001b[39mupdate_data)\n\u001b[1;32m      3\u001b[0m monitor_thread\u001b[38;5;241m.\u001b[39mstart()\n\u001b[0;32m----> 5\u001b[0m monitor\u001b[38;5;241m.\u001b[39mgenerate_report()\n",
      "Cell \u001b[0;32mIn[243], line 41\u001b[0m, in \u001b[0;36mMonitor.generate_report\u001b[0;34m(self)\u001b[0m\n\u001b[1;32m     37\u001b[0m         most_connections \u001b[38;5;241m=\u001b[39m \u001b[38;5;28;01mNone\u001b[39;00m\n\u001b[1;32m     39\u001b[0m     pd\u001b[38;5;241m.\u001b[39mDataFrame({\u001b[38;5;124m'\u001b[39m\u001b[38;5;124mhostname 1\u001b[39m\u001b[38;5;124m'\u001b[39m: hostnames_connected, \u001b[38;5;124m'\u001b[39m\u001b[38;5;124mhostname 2\u001b[39m\u001b[38;5;124m'\u001b[39m: hostnames_received, \u001b[38;5;124m'\u001b[39m\u001b[38;5;124mmost_connected\u001b[39m\u001b[38;5;124m'\u001b[39m: most_connections, \u001b[38;5;124m'\u001b[39m\u001b[38;5;124mlast_timestamp\u001b[39m\u001b[38;5;124m'\u001b[39m: actual_time})\u001b[38;5;241m.\u001b[39mto_csv(\u001b[38;5;124mf\u001b[39m\u001b[38;5;124m'\u001b[39m\u001b[38;5;124moutput/report_\u001b[39m\u001b[38;5;132;01m{\u001b[39;00mactual_time\u001b[38;5;241m.\u001b[39mtimestamp()\u001b[38;5;132;01m}\u001b[39;00m\u001b[38;5;124m.csv\u001b[39m\u001b[38;5;124m'\u001b[39m, index\u001b[38;5;241m=\u001b[39m\u001b[38;5;28;01mFalse\u001b[39;00m)\n\u001b[0;32m---> 41\u001b[0m time\u001b[38;5;241m.\u001b[39msleep(\u001b[38;5;241m60\u001b[39m \u001b[38;5;241m*\u001b[39m \u001b[38;5;241m60\u001b[39m)\n",
      "\u001b[0;31mKeyboardInterrupt\u001b[0m: "
     ]
    }
   ],
   "source": [
    "# Now, I am ready to call the threads and generate the reports.\n",
    "monitor_thread = threading.Thread(target=monitor.update_data)\n",
    "monitor_thread.start()\n",
    "\n",
    "monitor.generate_report()"
   ]
  }
 ],
 "metadata": {
  "kernelspec": {
   "display_name": "base",
   "language": "python",
   "name": "python3"
  },
  "language_info": {
   "codemirror_mode": {
    "name": "ipython",
    "version": 3
   },
   "file_extension": ".py",
   "mimetype": "text/x-python",
   "name": "python",
   "nbconvert_exporter": "python",
   "pygments_lexer": "ipython3",
   "version": "3.11.7"
  }
 },
 "nbformat": 4,
 "nbformat_minor": 2
}
