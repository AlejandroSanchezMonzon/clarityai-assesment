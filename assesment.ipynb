{
 "cells": [
  {
   "cell_type": "markdown",
   "metadata": {},
   "source": [
    "# Alejandro Sánchez Monzón - Assesment Clarity AI (04/06/2024)"
   ]
  },
  {
   "cell_type": "markdown",
   "metadata": {},
   "source": [
    "> Please read the README.md file to understand more about my intentions and thoughts during the assesment development. "
   ]
  },
  {
   "cell_type": "code",
   "execution_count": 1,
   "metadata": {},
   "outputs": [],
   "source": [
    "## Uncomment this line and install pandas in case you don't have it i your local environment.\n",
    "## pip install pandas"
   ]
  },
  {
   "cell_type": "code",
   "execution_count": 2,
   "metadata": {},
   "outputs": [],
   "source": [
    "# This line won't work if you didn't install pandas using the above command.\n",
    "# https://pandas.pydata.org/docs/\n",
    "\n",
    "import pandas as pd"
   ]
  },
  {
   "cell_type": "code",
   "execution_count": 3,
   "metadata": {},
   "outputs": [],
   "source": [
    "# Fisrt of all, I found usefull to check if the timestamp received is valid or not.\n",
    "def is_timestamp_valid(timestamp):\n",
    "    try:\n",
    "        pd.to_datetime(timestamp, unit='ms')\n",
    "        return True\n",
    "    except ValueError:\n",
    "        return False"
   ]
  },
  {
   "cell_type": "code",
   "execution_count": 4,
   "metadata": {},
   "outputs": [],
   "source": [
    "# I can check too if the file received is valid or not.\n",
    "def is_file_valid(file_name):\n",
    "    try:\n",
    "        pd.read_csv(file_name, sep=' ', names=['unix_timestamp', 'hostname_1', 'hostname_2'])\n",
    "        return True\n",
    "    except Exception:\n",
    "        return False"
   ]
  },
  {
   "cell_type": "code",
   "execution_count": 5,
   "metadata": {},
   "outputs": [],
   "source": [
    "# Let's create the function with the logic required.\n",
    "\n",
    "def parsing_tool(file_name, init_datetime, end_datetime, hostname):\n",
    "    # I will check first if the timestamp received is valid or not.\n",
    "    if not is_timestamp_valid(init_datetime) or not is_timestamp_valid(end_datetime):\n",
    "        raise ValueError('The timestamp received is not valid.')\n",
    "\n",
    "    # I will check if the file received is valid or not.\n",
    "    if not is_file_valid(file_name):\n",
    "        raise Exception('The file received is not valid.')\n",
    "\n",
    "    # I need to parse to datetime object the init_datetime and end_datetime variables.\n",
    "    init_datetime = pd.to_datetime(init_datetime, unit='ms')\n",
    "    end_datetime = pd.to_datetime(end_datetime, unit='ms')\n",
    "\n",
    "    # I will read all the lines of the file, naming the columns as the format given.\n",
    "    df = pd.read_csv(file_name, sep=' ', names=['unix_timestamp', 'hostname_1', 'hostname_2'])\n",
    "\n",
    "    time_parsed = pd.to_datetime(df['unix_timestamp'], unit='ms')\n",
    "\n",
    "    # I am going to filter the dataframe based on the init_datetime and end_datetime variables.\n",
    "    df_filtered = df[(time_parsed >= init_datetime) & (time_parsed <= end_datetime)]\n",
    "\n",
    "    # Now, I continue filtering the dataframe based on the hostname variable.\n",
    "    df_filtered = df_filtered[(df_filtered['hostname_2'] == hostname)]\n",
    "\n",
    "    # We apply the unique() and tolist() functions to get a list with the unique hostnames (no duplicates).\n",
    "    return df_filtered['hostname_1'].unique().tolist()"
   ]
  },
  {
   "cell_type": "code",
   "execution_count": 6,
   "metadata": {},
   "outputs": [],
   "source": [
    "# At the end, we call the function with all the required parameters.\n",
    "\n",
    "hostname = 'Taffani'\n",
    "file_name = 'input-file-10000.txt'\n",
    "init_datetime = '1565647518147'\n",
    "end_datetime = '1565649996495'"
   ]
  },
  {
   "cell_type": "code",
   "execution_count": 7,
   "metadata": {},
   "outputs": [
    {
     "name": "stderr",
     "output_type": "stream",
     "text": [
      "/tmp/ipykernel_8517/1821696467.py:4: FutureWarning: The behavior of 'to_datetime' with 'unit' when parsing strings is deprecated. In a future version, strings will be parsed as datetime strings, matching the behavior without a 'unit'. To retain the old behavior, explicitly cast ints or floats to numeric type before calling to_datetime.\n",
      "  pd.to_datetime(timestamp, unit='ms')\n",
      "/tmp/ipykernel_8517/737487957.py:13: FutureWarning: The behavior of 'to_datetime' with 'unit' when parsing strings is deprecated. In a future version, strings will be parsed as datetime strings, matching the behavior without a 'unit'. To retain the old behavior, explicitly cast ints or floats to numeric type before calling to_datetime.\n",
      "  init_datetime = pd.to_datetime(init_datetime, unit='ms')\n",
      "/tmp/ipykernel_8517/737487957.py:14: FutureWarning: The behavior of 'to_datetime' with 'unit' when parsing strings is deprecated. In a future version, strings will be parsed as datetime strings, matching the behavior without a 'unit'. To retain the old behavior, explicitly cast ints or floats to numeric type before calling to_datetime.\n",
      "  end_datetime = pd.to_datetime(end_datetime, unit='ms')\n"
     ]
    },
    {
     "data": {
      "text/plain": [
       "['Chessica', 'Shaunee', 'Mehret']"
      ]
     },
     "execution_count": 7,
     "metadata": {},
     "output_type": "execute_result"
    }
   ],
   "source": [
    "df_result = parsing_tool(file_name, init_datetime, end_datetime, hostname)\n",
    "\n",
    "df_result"
   ]
  },
  {
   "cell_type": "markdown",
   "metadata": {},
   "source": [
    "## Alternative: using user inputs by console"
   ]
  },
  {
   "cell_type": "code",
   "execution_count": 8,
   "metadata": {},
   "outputs": [
    {
     "name": "stderr",
     "output_type": "stream",
     "text": [
      "/tmp/ipykernel_8517/1821696467.py:4: FutureWarning: The behavior of 'to_datetime' with 'unit' when parsing strings is deprecated. In a future version, strings will be parsed as datetime strings, matching the behavior without a 'unit'. To retain the old behavior, explicitly cast ints or floats to numeric type before calling to_datetime.\n",
      "  pd.to_datetime(timestamp, unit='ms')\n",
      "/tmp/ipykernel_8517/737487957.py:13: FutureWarning: The behavior of 'to_datetime' with 'unit' when parsing strings is deprecated. In a future version, strings will be parsed as datetime strings, matching the behavior without a 'unit'. To retain the old behavior, explicitly cast ints or floats to numeric type before calling to_datetime.\n",
      "  init_datetime = pd.to_datetime(init_datetime, unit='ms')\n",
      "/tmp/ipykernel_8517/737487957.py:14: FutureWarning: The behavior of 'to_datetime' with 'unit' when parsing strings is deprecated. In a future version, strings will be parsed as datetime strings, matching the behavior without a 'unit'. To retain the old behavior, explicitly cast ints or floats to numeric type before calling to_datetime.\n",
      "  end_datetime = pd.to_datetime(end_datetime, unit='ms')\n"
     ]
    },
    {
     "data": {
      "text/plain": [
       "['Kaitley',\n",
       " 'Rashawna',\n",
       " 'Zebastian',\n",
       " 'Lacinda',\n",
       " 'Jaylen',\n",
       " 'Hashem',\n",
       " 'Chasten',\n",
       " 'Karletta',\n",
       " 'Rukaya',\n",
       " 'Giany',\n",
       " 'Jitesh',\n",
       " 'Arisleidy',\n",
       " 'Edrin']"
      ]
     },
     "execution_count": 8,
     "metadata": {},
     "output_type": "execute_result"
    }
   ],
   "source": [
    "hostname_input = input(\"Enter the hostname: \") #Alizander\n",
    "end_datetime_input = input(\"Enter the end datetime (ms): \") #1565727297921\n",
    "init_datetime_input = input(\"Enter the init datetime (ms): \") #1565656183599\n",
    "file_name_input = input(\"Enter the file name: \") #input-file-10000.txt\n",
    "\n",
    "df_result_inputs = parsing_tool(file_name_input, init_datetime_input, end_datetime_input, hostname_input)\n",
    "\n",
    "df_result_inputs"
   ]
  },
  {
   "cell_type": "markdown",
   "metadata": {},
   "source": [
    "# Testing for this two methods"
   ]
  },
  {
   "cell_type": "code",
   "execution_count": 9,
   "metadata": {},
   "outputs": [],
   "source": [
    "# As I said in the README.md, I am using Anaconda and I am not sure if it preinstall the unittest librery so y add the install command below.\n",
    "# pip install unittest"
   ]
  },
  {
   "cell_type": "code",
   "execution_count": 10,
   "metadata": {},
   "outputs": [],
   "source": [
    "# I import the testing library I am going to use to test my functions.\n",
    "\n",
    "import unittest"
   ]
  },
  {
   "cell_type": "code",
   "execution_count": 11,
   "metadata": {},
   "outputs": [
    {
     "name": "stderr",
     "output_type": "stream",
     "text": [
      "/tmp/ipykernel_8517/1821696467.py:4: FutureWarning: The behavior of 'to_datetime' with 'unit' when parsing strings is deprecated. In a future version, strings will be parsed as datetime strings, matching the behavior without a 'unit'. To retain the old behavior, explicitly cast ints or floats to numeric type before calling to_datetime.\n",
      "  pd.to_datetime(timestamp, unit='ms')\n",
      "../tmp/ipykernel_8517/737487957.py:13: FutureWarning: The behavior of 'to_datetime' with 'unit' when parsing strings is deprecated. In a future version, strings will be parsed as datetime strings, matching the behavior without a 'unit'. To retain the old behavior, explicitly cast ints or floats to numeric type before calling to_datetime.\n",
      "  init_datetime = pd.to_datetime(init_datetime, unit='ms')\n",
      "/tmp/ipykernel_8517/737487957.py:14: FutureWarning: The behavior of 'to_datetime' with 'unit' when parsing strings is deprecated. In a future version, strings will be parsed as datetime strings, matching the behavior without a 'unit'. To retain the old behavior, explicitly cast ints or floats to numeric type before calling to_datetime.\n",
      "  end_datetime = pd.to_datetime(end_datetime, unit='ms')\n",
      ".\n",
      "----------------------------------------------------------------------\n",
      "Ran 3 tests in 0.041s\n",
      "\n",
      "OK\n"
     ]
    },
    {
     "data": {
      "text/plain": [
       "<unittest.main.TestProgram at 0x7f6856a17190>"
      ]
     },
     "execution_count": 11,
     "metadata": {},
     "output_type": "execute_result"
    }
   ],
   "source": [
    "# I create a class with my functions to test the original ones.\n",
    "\n",
    "class TestParsingTool(unittest.TestCase):\n",
    "    def test_is_timestamp_valid(self):\n",
    "        test_file_name = 'input-file-10000.txt'\n",
    "        test_end_datetime = '1565649996495'\n",
    "        test_init_datetime = 'INVALID_TIMESTAMP'\n",
    "        test_hostname = 'Taffani'\n",
    "\n",
    "        with self.assertRaises(ValueError):\n",
    "            parsing_tool(test_file_name, test_init_datetime, test_end_datetime, test_hostname)\n",
    "\n",
    "    def test_is_file_valid(self):\n",
    "        test_file_name = 'INVALID_FILE.txt'\n",
    "        test_end_datetime = '1565649996495'\n",
    "        test_init_datetime = '1565647518147'\n",
    "        test_hostname = 'Taffani'\n",
    "\n",
    "        with self.assertRaises(Exception):\n",
    "            parsing_tool(test_file_name, test_init_datetime, test_end_datetime, test_hostname)\n",
    "\n",
    "    def test_parsing_tool(self):\n",
    "        test_file_name = 'input-file-10000.txt'\n",
    "        test_end_datetime = '1565649996495'\n",
    "        test_init_datetime = '1565647518147'\n",
    "        test_hostname = 'Taffani'\n",
    "\n",
    "        test_result = parsing_tool(test_file_name, test_init_datetime, test_end_datetime, test_hostname)\n",
    "        self.assertIn('Shaunee', test_result)\n",
    "\n",
    "\n",
    "unittest.main(argv=[''], exit=False)"
   ]
  },
  {
   "cell_type": "markdown",
   "metadata": {},
   "source": [
    "# Optional requirement"
   ]
  },
  {
   "cell_type": "code",
   "execution_count": 75,
   "metadata": {},
   "outputs": [],
   "source": [
    "# I will need some more libraries this time in order to use threading correctly and work with timestamps.\n",
    "\n",
    "import pandas as pd\n",
    "import time\n",
    "from datetime import datetime, timedelta\n",
    "import threading"
   ]
  },
  {
   "cell_type": "code",
   "execution_count": 76,
   "metadata": {},
   "outputs": [],
   "source": [
    "file_name_realtime = 'input-file-10000.txt'\n",
    "df_realtime = pd.DataFrame(columns=['unix_timestamp', 'hostname_1', 'hostname_2'])"
   ]
  },
  {
   "cell_type": "code",
   "execution_count": 77,
   "metadata": {},
   "outputs": [
    {
     "name": "stderr",
     "output_type": "stream",
     "text": [
      "/tmp/ipykernel_8517/3994992154.py:12: FutureWarning: The behavior of DataFrame concatenation with empty or all-NA entries is deprecated. In a future version, this will no longer exclude empty or all-NA columns when determining the result dtypes. To retain the old behavior, exclude the relevant entries before the concat operation.\n",
      "  df_realtime = pd.concat([df_realtime, new_df])\n"
     ]
    }
   ],
   "source": [
    "# This function will be called in a thread and continuously update the dataframe.\n",
    "def update_data():\n",
    "    while True:\n",
    "        # I had to use the global variable to access and update the dataframe in the thread.\n",
    "        global df_realtime\n",
    "\n",
    "        # I read the file and create a new dataframe with only the new information.\n",
    "        new_df = pd.read_csv(file_name_realtime, sep=' ', names=['unix_timestamp', 'hostname_1', 'hostname_2'], skiprows=len(df_realtime))\n",
    "        new_df['unix_timestamp'] = pd.to_datetime(new_df['unix_timestamp'], unit='ms')\n",
    "\n",
    "        # I update the dataframe with the new information.\n",
    "        df_realtime = pd.concat([df_realtime, new_df])\n"
   ]
  },
  {
   "cell_type": "code",
   "execution_count": 81,
   "metadata": {},
   "outputs": [],
   "source": [
    "# This function will be called in a thread and will generate the report where I collect data such as hostnames connected, received and most connected.\n",
    "def generate_report(last_timestamp=last_timestamp, df=df_realtime, hostname=hostname_realtime):\n",
    "    while True:\n",
    "        actual_time = datetime.now()\n",
    "\n",
    "        # I check here if he hour is passed or not.\n",
    "        if actual_time - last_timestamp >= timedelta(hours=1):\n",
    "            last_timestamp = actual_time\n",
    "            hour_aux = actual_time - timedelta(hours=1)\n",
    "\n",
    "            # I create a Dataframe with the information of the last hour.\n",
    "            last_hour_df = df[(df['unix_timestamp'] >= hour_aux) & (df['unix_timestamp'] <= actual_time)]\n",
    "\n",
    "            hostnames_connected = last_hour_df[last_hour_df['hostname_1'] == hostname]['hostname_2'].unique().tolist()\n",
    "            hostnames_received = last_hour_df[last_hour_df['hostname_2'] == hostname]['hostname_1'].unique().tolist()\n",
    "\n",
    "            # idxmax() returns the index of the maximum value, but I need to ensure there are values.\n",
    "            if not last_hour_df.empty:\n",
    "                most_connections = last_hour_df['hostname_1'].value_counts().idxmax()\n",
    "            else:\n",
    "                most_connections = None\n",
    "\n",
    "            print(f'Hostnames connected in the last hour: {hostnames_connected}')\n",
    "            print(f'Hostnames received in the last hour: {hostnames_received}')\n",
    "            print(f'Most connected in the last hour: {most_connections}')\n",
    "            print('-------------------------------------------')\n",
    "\n",
    "            # I decided to save the report in a csv file as well as I print the information.\n",
    "            csv_title_time = int(actual_time.timestamp() * 1000)\n",
    "            pd.DataFrame({'hostnames_connected': hostnames_connected, 'hostnames_received': hostnames_received, 'most_connected': most_connections}).to_csv(f'output/report_{csv_title_time}.csv', index=False)\n",
    "\n",
    "        time.sleep(60 * 60)"
   ]
  },
  {
   "cell_type": "code",
   "execution_count": 82,
   "metadata": {},
   "outputs": [],
   "source": [
    "# Now, I am ready to call the threads and generate the reports.\n",
    "monitor_thread = threading.Thread(target=update_data)\n",
    "\n",
    "# I start the threads.\n",
    "monitor_thread.start()"
   ]
  },
  {
   "cell_type": "code",
   "execution_count": 83,
   "metadata": {},
   "outputs": [
    {
     "name": "stdout",
     "output_type": "stream",
     "text": [
      "Hostnames connected in the last hour: []\n",
      "Hostnames received in the last hour: []\n",
      "Most connected in the last hour: None\n",
      "-------------------------------------------\n"
     ]
    }
   ],
   "source": [
    "last_timestamp = datetime.now() - timedelta(hours=1)\n",
    "hostname_realtime = 'Taffani'\n",
    "\n",
    "generate_report(last_timestamp, df_realtime, hostname_realtime)"
   ]
  }
 ],
 "metadata": {
  "kernelspec": {
   "display_name": "base",
   "language": "python",
   "name": "python3"
  },
  "language_info": {
   "codemirror_mode": {
    "name": "ipython",
    "version": 3
   },
   "file_extension": ".py",
   "mimetype": "text/x-python",
   "name": "python",
   "nbconvert_exporter": "python",
   "pygments_lexer": "ipython3",
   "version": "3.11.7"
  }
 },
 "nbformat": 4,
 "nbformat_minor": 2
}
